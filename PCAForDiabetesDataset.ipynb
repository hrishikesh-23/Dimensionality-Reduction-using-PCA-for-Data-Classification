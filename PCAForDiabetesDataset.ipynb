{
 "cells": [
  {
   "cell_type": "code",
   "execution_count": 1,
   "id": "6bcb3a86",
   "metadata": {},
   "outputs": [],
   "source": [
    "import numpy as np\n",
    "import pandas as pd\n",
    "import matplotlib.pyplot as plt\n",
    "from sklearn import preprocessing\n",
    "from sklearn.model_selection import train_test_split"
   ]
  },
  {
   "cell_type": "code",
   "execution_count": 2,
   "id": "4e9b5541",
   "metadata": {},
   "outputs": [
    {
     "data": {
      "text/html": [
       "<div>\n",
       "<style scoped>\n",
       "    .dataframe tbody tr th:only-of-type {\n",
       "        vertical-align: middle;\n",
       "    }\n",
       "\n",
       "    .dataframe tbody tr th {\n",
       "        vertical-align: top;\n",
       "    }\n",
       "\n",
       "    .dataframe thead th {\n",
       "        text-align: right;\n",
       "    }\n",
       "</style>\n",
       "<table border=\"1\" class=\"dataframe\">\n",
       "  <thead>\n",
       "    <tr style=\"text-align: right;\">\n",
       "      <th></th>\n",
       "      <th>Pregnancies</th>\n",
       "      <th>Glucose</th>\n",
       "      <th>BloodPressure</th>\n",
       "      <th>SkinThickness</th>\n",
       "      <th>Insulin</th>\n",
       "      <th>BMI</th>\n",
       "      <th>DiabetesPedigreeFunction</th>\n",
       "      <th>Age</th>\n",
       "      <th>Outcome</th>\n",
       "    </tr>\n",
       "  </thead>\n",
       "  <tbody>\n",
       "    <tr>\n",
       "      <th>count</th>\n",
       "      <td>768.000000</td>\n",
       "      <td>768.000000</td>\n",
       "      <td>768.000000</td>\n",
       "      <td>768.000000</td>\n",
       "      <td>768.000000</td>\n",
       "      <td>768.000000</td>\n",
       "      <td>768.000000</td>\n",
       "      <td>768.000000</td>\n",
       "      <td>768.000000</td>\n",
       "    </tr>\n",
       "    <tr>\n",
       "      <th>mean</th>\n",
       "      <td>3.845052</td>\n",
       "      <td>120.894531</td>\n",
       "      <td>69.105469</td>\n",
       "      <td>20.536458</td>\n",
       "      <td>79.799479</td>\n",
       "      <td>31.992578</td>\n",
       "      <td>0.471876</td>\n",
       "      <td>33.240885</td>\n",
       "      <td>0.348958</td>\n",
       "    </tr>\n",
       "    <tr>\n",
       "      <th>std</th>\n",
       "      <td>3.369578</td>\n",
       "      <td>31.972618</td>\n",
       "      <td>19.355807</td>\n",
       "      <td>15.952218</td>\n",
       "      <td>115.244002</td>\n",
       "      <td>7.884160</td>\n",
       "      <td>0.331329</td>\n",
       "      <td>11.760232</td>\n",
       "      <td>0.476951</td>\n",
       "    </tr>\n",
       "    <tr>\n",
       "      <th>min</th>\n",
       "      <td>0.000000</td>\n",
       "      <td>0.000000</td>\n",
       "      <td>0.000000</td>\n",
       "      <td>0.000000</td>\n",
       "      <td>0.000000</td>\n",
       "      <td>0.000000</td>\n",
       "      <td>0.078000</td>\n",
       "      <td>21.000000</td>\n",
       "      <td>0.000000</td>\n",
       "    </tr>\n",
       "    <tr>\n",
       "      <th>25%</th>\n",
       "      <td>1.000000</td>\n",
       "      <td>99.000000</td>\n",
       "      <td>62.000000</td>\n",
       "      <td>0.000000</td>\n",
       "      <td>0.000000</td>\n",
       "      <td>27.300000</td>\n",
       "      <td>0.243750</td>\n",
       "      <td>24.000000</td>\n",
       "      <td>0.000000</td>\n",
       "    </tr>\n",
       "    <tr>\n",
       "      <th>50%</th>\n",
       "      <td>3.000000</td>\n",
       "      <td>117.000000</td>\n",
       "      <td>72.000000</td>\n",
       "      <td>23.000000</td>\n",
       "      <td>30.500000</td>\n",
       "      <td>32.000000</td>\n",
       "      <td>0.372500</td>\n",
       "      <td>29.000000</td>\n",
       "      <td>0.000000</td>\n",
       "    </tr>\n",
       "    <tr>\n",
       "      <th>75%</th>\n",
       "      <td>6.000000</td>\n",
       "      <td>140.250000</td>\n",
       "      <td>80.000000</td>\n",
       "      <td>32.000000</td>\n",
       "      <td>127.250000</td>\n",
       "      <td>36.600000</td>\n",
       "      <td>0.626250</td>\n",
       "      <td>41.000000</td>\n",
       "      <td>1.000000</td>\n",
       "    </tr>\n",
       "    <tr>\n",
       "      <th>max</th>\n",
       "      <td>17.000000</td>\n",
       "      <td>199.000000</td>\n",
       "      <td>122.000000</td>\n",
       "      <td>99.000000</td>\n",
       "      <td>846.000000</td>\n",
       "      <td>67.100000</td>\n",
       "      <td>2.420000</td>\n",
       "      <td>81.000000</td>\n",
       "      <td>1.000000</td>\n",
       "    </tr>\n",
       "  </tbody>\n",
       "</table>\n",
       "</div>"
      ],
      "text/plain": [
       "       Pregnancies     Glucose  BloodPressure  SkinThickness     Insulin  \\\n",
       "count   768.000000  768.000000     768.000000     768.000000  768.000000   \n",
       "mean      3.845052  120.894531      69.105469      20.536458   79.799479   \n",
       "std       3.369578   31.972618      19.355807      15.952218  115.244002   \n",
       "min       0.000000    0.000000       0.000000       0.000000    0.000000   \n",
       "25%       1.000000   99.000000      62.000000       0.000000    0.000000   \n",
       "50%       3.000000  117.000000      72.000000      23.000000   30.500000   \n",
       "75%       6.000000  140.250000      80.000000      32.000000  127.250000   \n",
       "max      17.000000  199.000000     122.000000      99.000000  846.000000   \n",
       "\n",
       "              BMI  DiabetesPedigreeFunction         Age     Outcome  \n",
       "count  768.000000                768.000000  768.000000  768.000000  \n",
       "mean    31.992578                  0.471876   33.240885    0.348958  \n",
       "std      7.884160                  0.331329   11.760232    0.476951  \n",
       "min      0.000000                  0.078000   21.000000    0.000000  \n",
       "25%     27.300000                  0.243750   24.000000    0.000000  \n",
       "50%     32.000000                  0.372500   29.000000    0.000000  \n",
       "75%     36.600000                  0.626250   41.000000    1.000000  \n",
       "max     67.100000                  2.420000   81.000000    1.000000  "
      ]
     },
     "execution_count": 2,
     "metadata": {},
     "output_type": "execute_result"
    }
   ],
   "source": [
    "#Reading data from CSV file\n",
    "relativeFilePath = 'DataSet/Diabetes.csv' \n",
    "data = pd.read_csv(relativeFilePath)\n",
    "data.describe()"
   ]
  },
  {
   "cell_type": "code",
   "execution_count": 3,
   "id": "f3ab3a64",
   "metadata": {},
   "outputs": [],
   "source": [
    "#Separating features and labels\n",
    "features = data[['Pregnancies','Glucose','BloodPressure','SkinThickness','Insulin','BMI','DiabetesPedigreeFunction','Age']]\n",
    "labels = data[['Outcome']]"
   ]
  },
  {
   "cell_type": "code",
   "execution_count": 4,
   "id": "6fd9a825",
   "metadata": {},
   "outputs": [
    {
     "data": {
      "text/html": [
       "<div>\n",
       "<style scoped>\n",
       "    .dataframe tbody tr th:only-of-type {\n",
       "        vertical-align: middle;\n",
       "    }\n",
       "\n",
       "    .dataframe tbody tr th {\n",
       "        vertical-align: top;\n",
       "    }\n",
       "\n",
       "    .dataframe thead th {\n",
       "        text-align: right;\n",
       "    }\n",
       "</style>\n",
       "<table border=\"1\" class=\"dataframe\">\n",
       "  <thead>\n",
       "    <tr style=\"text-align: right;\">\n",
       "      <th></th>\n",
       "      <th>Pregnancies</th>\n",
       "      <th>Glucose</th>\n",
       "      <th>BloodPressure</th>\n",
       "      <th>SkinThickness</th>\n",
       "      <th>Insulin</th>\n",
       "      <th>BMI</th>\n",
       "      <th>DiabetesPedigreeFunction</th>\n",
       "      <th>Age</th>\n",
       "    </tr>\n",
       "  </thead>\n",
       "  <tbody>\n",
       "    <tr>\n",
       "      <th>count</th>\n",
       "      <td>7.680000e+02</td>\n",
       "      <td>7.680000e+02</td>\n",
       "      <td>7.680000e+02</td>\n",
       "      <td>7.680000e+02</td>\n",
       "      <td>7.680000e+02</td>\n",
       "      <td>7.680000e+02</td>\n",
       "      <td>7.680000e+02</td>\n",
       "      <td>7.680000e+02</td>\n",
       "    </tr>\n",
       "    <tr>\n",
       "      <th>mean</th>\n",
       "      <td>2.544261e-17</td>\n",
       "      <td>3.614007e-18</td>\n",
       "      <td>-1.327244e-17</td>\n",
       "      <td>7.994184e-17</td>\n",
       "      <td>-3.556183e-17</td>\n",
       "      <td>2.295979e-16</td>\n",
       "      <td>2.462585e-16</td>\n",
       "      <td>1.857600e-16</td>\n",
       "    </tr>\n",
       "    <tr>\n",
       "      <th>std</th>\n",
       "      <td>1.000652e+00</td>\n",
       "      <td>1.000652e+00</td>\n",
       "      <td>1.000652e+00</td>\n",
       "      <td>1.000652e+00</td>\n",
       "      <td>1.000652e+00</td>\n",
       "      <td>1.000652e+00</td>\n",
       "      <td>1.000652e+00</td>\n",
       "      <td>1.000652e+00</td>\n",
       "    </tr>\n",
       "    <tr>\n",
       "      <th>min</th>\n",
       "      <td>-1.141852e+00</td>\n",
       "      <td>-3.783654e+00</td>\n",
       "      <td>-3.572597e+00</td>\n",
       "      <td>-1.288212e+00</td>\n",
       "      <td>-6.928906e-01</td>\n",
       "      <td>-4.060474e+00</td>\n",
       "      <td>-1.189553e+00</td>\n",
       "      <td>-1.041549e+00</td>\n",
       "    </tr>\n",
       "    <tr>\n",
       "      <th>25%</th>\n",
       "      <td>-8.448851e-01</td>\n",
       "      <td>-6.852363e-01</td>\n",
       "      <td>-3.673367e-01</td>\n",
       "      <td>-1.288212e+00</td>\n",
       "      <td>-6.928906e-01</td>\n",
       "      <td>-5.955785e-01</td>\n",
       "      <td>-6.889685e-01</td>\n",
       "      <td>-7.862862e-01</td>\n",
       "    </tr>\n",
       "    <tr>\n",
       "      <th>50%</th>\n",
       "      <td>-2.509521e-01</td>\n",
       "      <td>-1.218877e-01</td>\n",
       "      <td>1.496408e-01</td>\n",
       "      <td>1.545332e-01</td>\n",
       "      <td>-4.280622e-01</td>\n",
       "      <td>9.419788e-04</td>\n",
       "      <td>-3.001282e-01</td>\n",
       "      <td>-3.608474e-01</td>\n",
       "    </tr>\n",
       "    <tr>\n",
       "      <th>75%</th>\n",
       "      <td>6.399473e-01</td>\n",
       "      <td>6.057709e-01</td>\n",
       "      <td>5.632228e-01</td>\n",
       "      <td>7.190857e-01</td>\n",
       "      <td>4.120079e-01</td>\n",
       "      <td>5.847705e-01</td>\n",
       "      <td>4.662269e-01</td>\n",
       "      <td>6.602056e-01</td>\n",
       "    </tr>\n",
       "    <tr>\n",
       "      <th>max</th>\n",
       "      <td>3.906578e+00</td>\n",
       "      <td>2.444478e+00</td>\n",
       "      <td>2.734528e+00</td>\n",
       "      <td>4.921866e+00</td>\n",
       "      <td>6.652839e+00</td>\n",
       "      <td>4.455807e+00</td>\n",
       "      <td>5.883565e+00</td>\n",
       "      <td>4.063716e+00</td>\n",
       "    </tr>\n",
       "  </tbody>\n",
       "</table>\n",
       "</div>"
      ],
      "text/plain": [
       "        Pregnancies       Glucose  BloodPressure  SkinThickness       Insulin  \\\n",
       "count  7.680000e+02  7.680000e+02   7.680000e+02   7.680000e+02  7.680000e+02   \n",
       "mean   2.544261e-17  3.614007e-18  -1.327244e-17   7.994184e-17 -3.556183e-17   \n",
       "std    1.000652e+00  1.000652e+00   1.000652e+00   1.000652e+00  1.000652e+00   \n",
       "min   -1.141852e+00 -3.783654e+00  -3.572597e+00  -1.288212e+00 -6.928906e-01   \n",
       "25%   -8.448851e-01 -6.852363e-01  -3.673367e-01  -1.288212e+00 -6.928906e-01   \n",
       "50%   -2.509521e-01 -1.218877e-01   1.496408e-01   1.545332e-01 -4.280622e-01   \n",
       "75%    6.399473e-01  6.057709e-01   5.632228e-01   7.190857e-01  4.120079e-01   \n",
       "max    3.906578e+00  2.444478e+00   2.734528e+00   4.921866e+00  6.652839e+00   \n",
       "\n",
       "                BMI  DiabetesPedigreeFunction           Age  \n",
       "count  7.680000e+02              7.680000e+02  7.680000e+02  \n",
       "mean   2.295979e-16              2.462585e-16  1.857600e-16  \n",
       "std    1.000652e+00              1.000652e+00  1.000652e+00  \n",
       "min   -4.060474e+00             -1.189553e+00 -1.041549e+00  \n",
       "25%   -5.955785e-01             -6.889685e-01 -7.862862e-01  \n",
       "50%    9.419788e-04             -3.001282e-01 -3.608474e-01  \n",
       "75%    5.847705e-01              4.662269e-01  6.602056e-01  \n",
       "max    4.455807e+00              5.883565e+00  4.063716e+00  "
      ]
     },
     "execution_count": 4,
     "metadata": {},
     "output_type": "execute_result"
    }
   ],
   "source": [
    "scaler = preprocessing.StandardScaler().fit(features)\n",
    "scaledFeatures = scaler.transform(features)\n",
    "scaledFeatureDf = pd.DataFrame(data = scaledFeatures, columns = features.columns)\n",
    "scaledFeatureDf.describe()"
   ]
  },
  {
   "cell_type": "code",
   "execution_count": 5,
   "id": "c2611c0f",
   "metadata": {},
   "outputs": [],
   "source": [
    "#singular vectors using eigen values of Xtranspos*X\n",
    "# Xtranspose = scaledFeatures.transpose()\n",
    "# correlationMatrix = np.matmul(Xtranspose,scaledFeatures)\n",
    "# eigenValues, eigenVectors = np.linalg.eig(correlationMatrix)"
   ]
  },
  {
   "cell_type": "code",
   "execution_count": 6,
   "id": "e5eaf2b1",
   "metadata": {},
   "outputs": [
    {
     "data": {
      "text/plain": [
       "True"
      ]
     },
     "execution_count": 6,
     "metadata": {},
     "output_type": "execute_result"
    }
   ],
   "source": [
    "#Finding Singular Value Decomposition, and also ensuring correctness by obtaining original matrix from SVD\n",
    "leftSingularVectors,singularValues,rightSingularVectors = np.linalg.svd(scaledFeatures, full_matrices=True)\n",
    "original = np.dot(leftSingularVectors[:,:8]*singularValues,rightSingularVectors)\n",
    "np.allclose(original,scaledFeatures)"
   ]
  },
  {
   "cell_type": "code",
   "execution_count": 8,
   "id": "2f9d5fd4",
   "metadata": {},
   "outputs": [
    {
     "data": {
      "text/plain": [
       "array([[-0.1284321 ,  0.59378583, -0.01308692,  0.08069115, -0.47560573,\n",
       "         0.19359817,  0.58879003,  0.11784098],\n",
       "       [-0.39308257,  0.17402908,  0.46792282, -0.40432871,  0.46632804,\n",
       "         0.09416176,  0.06015291,  0.45035526],\n",
       "       [-0.36000261,  0.18389207, -0.53549442,  0.05598649,  0.32795306,\n",
       "        -0.6341159 ,  0.19211793, -0.01129554],\n",
       "       [-0.43982428, -0.33196534, -0.2376738 ,  0.03797608, -0.48786206,\n",
       "         0.00958944, -0.28221253,  0.5662838 ],\n",
       "       [-0.43502617, -0.25078106,  0.33670893, -0.34994376, -0.34693481,\n",
       "        -0.27065061,  0.13200992, -0.54862138],\n",
       "       [-0.45194134, -0.1009598 , -0.36186463,  0.05364595,  0.25320376,\n",
       "         0.68537218,  0.03536644, -0.34151764],\n",
       "       [-0.27061144, -0.122069  ,  0.43318905,  0.8336801 ,  0.11981049,\n",
       "        -0.08578409,  0.08609107, -0.00825873],\n",
       "       [-0.19802707,  0.62058853,  0.07524755,  0.0712006 , -0.10928996,\n",
       "        -0.03335717, -0.71208542, -0.21166198]])"
      ]
     },
     "execution_count": 8,
     "metadata": {},
     "output_type": "execute_result"
    }
   ],
   "source": [
    "transposedRSV = rightSingularVectors.transpose()\n",
    "transposedRSV"
   ]
  },
  {
   "cell_type": "code",
   "execution_count": 9,
   "id": "60f26fd7",
   "metadata": {},
   "outputs": [],
   "source": [
    "#The first two components will be the priciple components we will be using.\n",
    "pcaDataFrame = pd.DataFrame()\n",
    "pcaDataFrame['FirstComp'] = transposedRSV[0]\n",
    "pcaDataFrame['SecondComp'] = transposedRSV[1]"
   ]
  },
  {
   "cell_type": "code",
   "execution_count": 38,
   "id": "976128d2",
   "metadata": {},
   "outputs": [
    {
     "data": {
      "text/html": [
       "<div>\n",
       "<style scoped>\n",
       "    .dataframe tbody tr th:only-of-type {\n",
       "        vertical-align: middle;\n",
       "    }\n",
       "\n",
       "    .dataframe tbody tr th {\n",
       "        vertical-align: top;\n",
       "    }\n",
       "\n",
       "    .dataframe thead th {\n",
       "        text-align: right;\n",
       "    }\n",
       "</style>\n",
       "<table border=\"1\" class=\"dataframe\">\n",
       "  <thead>\n",
       "    <tr style=\"text-align: right;\">\n",
       "      <th></th>\n",
       "      <th>0</th>\n",
       "      <th>1</th>\n",
       "    </tr>\n",
       "  </thead>\n",
       "  <tbody>\n",
       "    <tr>\n",
       "      <th>count</th>\n",
       "      <td>7.680000e+02</td>\n",
       "      <td>7.680000e+02</td>\n",
       "    </tr>\n",
       "    <tr>\n",
       "      <th>mean</th>\n",
       "      <td>2.579678e-16</td>\n",
       "      <td>7.314751e-17</td>\n",
       "    </tr>\n",
       "    <tr>\n",
       "      <th>std</th>\n",
       "      <td>9.256884e-01</td>\n",
       "      <td>8.971331e-01</td>\n",
       "    </tr>\n",
       "    <tr>\n",
       "      <th>min</th>\n",
       "      <td>-2.679109e+00</td>\n",
       "      <td>-2.769380e+00</td>\n",
       "    </tr>\n",
       "    <tr>\n",
       "      <th>25%</th>\n",
       "      <td>-6.262137e-01</td>\n",
       "      <td>-5.889392e-01</td>\n",
       "    </tr>\n",
       "    <tr>\n",
       "      <th>50%</th>\n",
       "      <td>-1.372840e-01</td>\n",
       "      <td>-7.106232e-02</td>\n",
       "    </tr>\n",
       "    <tr>\n",
       "      <th>75%</th>\n",
       "      <td>5.341217e-01</td>\n",
       "      <td>5.634876e-01</td>\n",
       "    </tr>\n",
       "    <tr>\n",
       "      <th>max</th>\n",
       "      <td>5.780690e+00</td>\n",
       "      <td>4.473754e+00</td>\n",
       "    </tr>\n",
       "  </tbody>\n",
       "</table>\n",
       "</div>"
      ],
      "text/plain": [
       "                  0             1\n",
       "count  7.680000e+02  7.680000e+02\n",
       "mean   2.579678e-16  7.314751e-17\n",
       "std    9.256884e-01  8.971331e-01\n",
       "min   -2.679109e+00 -2.769380e+00\n",
       "25%   -6.262137e-01 -5.889392e-01\n",
       "50%   -1.372840e-01 -7.106232e-02\n",
       "75%    5.341217e-01  5.634876e-01\n",
       "max    5.780690e+00  4.473754e+00"
      ]
     },
     "execution_count": 38,
     "metadata": {},
     "output_type": "execute_result"
    },
    {
     "data": {
      "image/png": "[encoded data removed]",
      "text/plain": [
       "<Figure size 640x480 with 1 Axes>"
      ]
     },
     "metadata": {},
     "output_type": "display_data"
    }
   ],
   "source": [
    "#Plotting The two dimensional data projected on the two principle components. Do we need to scale these features here again?\n",
    "twoDData = np.dot(scaledFeatures,pcaDataFrame.to_numpy())\n",
    "colors = {0:'red',1:'blue'}\n",
    "plt.scatter(twoDData[:,0], twoDData[:,1],s=3, c = labels['Outcome'].map(colors))\n",
    "y = labels.to_numpy()\n",
    "pd.DataFrame(twoDData).describe()"
   ]
  },
  {
   "cell_type": "code",
   "execution_count": 11,
   "id": "dbd7ddde",
   "metadata": {},
   "outputs": [],
   "source": [
    "x_train, x_test, y_train, y_test = train_test_split(twoDData, y, train_size=0.8, shuffle=True, stratify=y)"
   ]
  },
  {
   "cell_type": "code",
   "execution_count": 12,
   "id": "7d1c5448",
   "metadata": {},
   "outputs": [
    {
     "data": {
      "text/plain": [
       "(614, 1)"
      ]
     },
     "execution_count": 12,
     "metadata": {},
     "output_type": "execute_result"
    }
   ],
   "source": [
    "y_train.shape"
   ]
  },
  {
   "cell_type": "code",
   "execution_count": 18,
   "id": "ceb28dd9",
   "metadata": {},
   "outputs": [],
   "source": [
    "def getLossAndGradient(w,x,y,regularizer):\n",
    "    numberOfDataPoints = x.shape[0]\n",
    "    xw = np.dot(x,w)\n",
    "    loss = np.dot((y-xw).T,(y-xw)).item()/2*numberOfDataPoints\n",
    "    grad = (np.dot(x.T, (y-xw)))/numberOfDataPoints - regularizer*w\n",
    "    return loss, grad"
   ]
  },
  {
   "cell_type": "code",
   "execution_count": 19,
   "id": "9d8e99f3",
   "metadata": {},
   "outputs": [],
   "source": [
    "def steepestDescentLineSearch(w, x, y, regularizer,epsilon = 1e-07, max_epochs=500, gamma = 1e-07):\n",
    "    loss, grad = getLossAndGradient(w,x,y,regularizer)\n",
    "    numberOfEpochs = 0\n",
    "    while(numberOfEpochs<max_epochs and np.linalg.norm(grad)>epsilon):\n",
    "        learningRate = 1\n",
    "        w_new = w + learningRate*grad # We are actually moving in opposite direction of gradient, getLossAndGradient actually returns -grad\n",
    "        #print(\"Iteration : \",numberOfEpochs,\" w : \",w,\" Loss : \",loss)\n",
    "        new_loss, new_grad = getLossAndGradient(w_new,x,y,regularizer)\n",
    "        \n",
    "        #Line search for Learning Rate\n",
    "        while(new_loss>loss - gamma*learningRate*np.dot(grad.T,grad)):\n",
    "            learningRate = learningRate/2\n",
    "            w_new = w + learningRate*grad\n",
    "            new_loss, new_grad = getLossAndGradient(w_new,x,y,regularizer)\n",
    "        w = w_new\n",
    "        #print('learning rate used : ',learningRate)\n",
    "        loss = new_loss\n",
    "        grad = new_grad\n",
    "        numberOfEpochs += 1\n",
    "    #print(\"total epochs needed : \",numberOfEpochs)\n",
    "    return w"
   ]
  },
  {
   "cell_type": "code",
   "execution_count": 33,
   "id": "89d2f431",
   "metadata": {},
   "outputs": [
    {
     "data": {
      "text/plain": [
       "array([0.12850771, 0.01413517])"
      ]
     },
     "execution_count": 33,
     "metadata": {},
     "output_type": "execute_result"
    }
   ],
   "source": [
    "w_learned = steepestDescentLineSearch(np.array([2,-1]),x_train, y_train[:,0], 0.9)\n",
    "w_learned"
   ]
  },
  {
   "cell_type": "code",
   "execution_count": 39,
   "id": "2ff924e6",
   "metadata": {},
   "outputs": [
    {
     "data": {
      "text/plain": [
       "[<matplotlib.lines.Line2D at 0x15d1c8f1b20>]"
      ]
     },
     "execution_count": 39,
     "metadata": {},
     "output_type": "execute_result"
    },
    {
     "data": {
      "image/png": "[encoded data removed]",
      "text/plain": [
       "<Figure size 640x480 with 1 Axes>"
      ]
     },
     "metadata": {},
     "output_type": "display_data"
    }
   ],
   "source": [
    "xax = np.arange(-0.5,0.5,0.1)\n",
    "yax = (-w_learned[0]/w_learned[1])*xax + (0.0/w_learned[1])\n",
    "\n",
    "plt.scatter(twoDData[:,0], twoDData[:,1],s=3, c = labels['Outcome'].map(colors))\n",
    "plt.plot(xax,yax)"
   ]
  },
  {
   "cell_type": "code",
   "execution_count": 40,
   "id": "2f60878c",
   "metadata": {},
   "outputs": [
    {
     "name": "stdout",
     "output_type": "stream",
     "text": [
      "Accuracy = 85.71428571428571\n"
     ]
    }
   ],
   "source": [
    "pred = np.dot(x_test, w_learned)\n",
    "accuracy = np.sum([1 if pred[i]*y_test[i] >= 0 else 0 for i in range(len(pred))])/len(pred)\n",
    "print(\"Accuracy =\",accuracy*100)"
   ]
  },
  {
   "cell_type": "code",
   "execution_count": 19,
   "id": "9915d096",
   "metadata": {},
   "outputs": [],
   "source": [
    "#K-fold cross validation\n",
    "\n",
    "numberOfFolds = 5\n",
    "totalDataPoints = x_train.shape[0]\n",
    "DataPointsInOneFold = totalDataPoints//numberOfFolds\n",
    "foldStartIndex = np.zeros(numberOfFolds)\n",
    "foldEndIndex = np.zeros(numberOfFolds)\n",
    "\n",
    "for i in range(0,numberOfFolds):\n",
    "    foldName = 'fold'+str(1)\n",
    "    fsi = i*DataPointsInOneFold\n",
    "    fei = (i+1)*DataPointsInOneFold - 1\n",
    "    if i==numberOfFolds-1:\n",
    "        fei = totalDataPoints-1\n",
    "    foldStartIndex[i] = fsi\n",
    "    foldEndIndex[i] = fei"
   ]
  },
  {
   "cell_type": "code",
   "execution_count": 27,
   "id": "d25a1eca",
   "metadata": {},
   "outputs": [
    {
     "data": {
      "text/plain": [
       "array([[ 0.2278038 , -0.19084503],\n",
       "       [-0.81943324, -0.12444706],\n",
       "       [ 0.0579723 ,  0.1891487 ],\n",
       "       [-0.41242351,  0.67616162]])"
      ]
     },
     "execution_count": 27,
     "metadata": {},
     "output_type": "execute_result"
    }
   ],
   "source": [
    "np.concatenate((x_train[0:0,:],x_train[4:4,:]),axis=0)\n",
    "x_train[0:4,:]"
   ]
  },
  {
   "cell_type": "code",
   "execution_count": 28,
   "id": "5be9f8db",
   "metadata": {},
   "outputs": [
    {
     "data": {
      "text/plain": [
       "array([[-0.41242351,  0.67616162],\n",
       "       [ 0.60236   ,  1.60296423]])"
      ]
     },
     "execution_count": 28,
     "metadata": {},
     "output_type": "execute_result"
    }
   ],
   "source": [
    "trainingData = x_train[0:0,:]\n",
    "np.concatenate((trainingData,x_train[3:5,:]),axis=0)"
   ]
  },
  {
   "cell_type": "code",
   "execution_count": 29,
   "id": "102a6938",
   "metadata": {},
   "outputs": [
    {
     "ename": "NameError",
     "evalue": "name 'validationData' is not defined",
     "output_type": "error",
     "traceback": [
      "\u001b[1;31m---------------------------------------------------------------------------\u001b[0m",
      "\u001b[1;31mNameError\u001b[0m                                 Traceback (most recent call last)",
      "\u001b[1;32m~\\AppData\\Local\\Temp\\ipykernel_21904\\3722500103.py\u001b[0m in \u001b[0;36m<module>\u001b[1;34m\u001b[0m\n\u001b[0;32m     13\u001b[0m                 \u001b[0mtrainingData_x\u001b[0m \u001b[1;33m=\u001b[0m \u001b[0mnp\u001b[0m\u001b[1;33m.\u001b[0m\u001b[0mconcatenate\u001b[0m\u001b[1;33m(\u001b[0m\u001b[1;33m(\u001b[0m\u001b[0mtrainingData\u001b[0m\u001b[1;33m,\u001b[0m\u001b[0mx_train\u001b[0m\u001b[1;33m[\u001b[0m\u001b[0mfoldStartIndex\u001b[0m\u001b[1;33m[\u001b[0m\u001b[0meachFold\u001b[0m\u001b[1;33m]\u001b[0m\u001b[1;33m:\u001b[0m\u001b[0mfoldEndIndex\u001b[0m\u001b[1;33m[\u001b[0m\u001b[0meachFold\u001b[0m\u001b[1;33m]\u001b[0m\u001b[1;33m,\u001b[0m\u001b[1;33m:\u001b[0m\u001b[1;33m]\u001b[0m\u001b[1;33m)\u001b[0m\u001b[1;33m,\u001b[0m\u001b[0maxis\u001b[0m\u001b[1;33m=\u001b[0m\u001b[1;36m0\u001b[0m\u001b[1;33m)\u001b[0m\u001b[1;33m\u001b[0m\u001b[1;33m\u001b[0m\u001b[0m\n\u001b[0;32m     14\u001b[0m             \u001b[1;32melse\u001b[0m\u001b[1;33m:\u001b[0m\u001b[1;33m\u001b[0m\u001b[1;33m\u001b[0m\u001b[0m\n\u001b[1;32m---> 15\u001b[1;33m                 \u001b[0mvalidationData\u001b[0m \u001b[1;33m=\u001b[0m \u001b[0mnp\u001b[0m\u001b[1;33m.\u001b[0m\u001b[0mconcatenate\u001b[0m\u001b[1;33m(\u001b[0m\u001b[1;33m(\u001b[0m\u001b[0mvalidationData\u001b[0m\u001b[1;33m,\u001b[0m\u001b[0mx_train\u001b[0m\u001b[1;33m[\u001b[0m\u001b[0mfoldStartIndex\u001b[0m\u001b[1;33m[\u001b[0m\u001b[0meachFold\u001b[0m\u001b[1;33m]\u001b[0m\u001b[1;33m:\u001b[0m\u001b[0mfoldEndIndex\u001b[0m\u001b[1;33m[\u001b[0m\u001b[0meachFold\u001b[0m\u001b[1;33m]\u001b[0m\u001b[1;33m,\u001b[0m\u001b[1;33m:\u001b[0m\u001b[1;33m]\u001b[0m\u001b[1;33m)\u001b[0m\u001b[1;33m,\u001b[0m\u001b[0maxis\u001b[0m\u001b[1;33m=\u001b[0m\u001b[1;36m0\u001b[0m\u001b[1;33m)\u001b[0m\u001b[1;33m\u001b[0m\u001b[1;33m\u001b[0m\u001b[0m\n\u001b[0m\u001b[0;32m     16\u001b[0m \u001b[1;33m\u001b[0m\u001b[0m\n\u001b[0;32m     17\u001b[0m \u001b[1;33m\u001b[0m\u001b[0m\n",
      "\u001b[1;31mNameError\u001b[0m: name 'validationData' is not defined"
     ]
    }
   ],
   "source": [
    "rangeOfRegularizer = np.arange(-20,20,0.5)\n",
    "bestReg = rangeOfRegularizer[0]\n",
    "maxValidationAcc = 0\n",
    "for reg in rangeOfRegularizer:\n",
    "    accuracyOfReg = 0\n",
    "    for testFold in range(0,numberOfFolds):\n",
    "        trainingData_x = x_train[0:0,:]\n",
    "        trainingData_y = y_train[0:0,:]\n",
    "        validationData_x = x_train[0:0,:]\n",
    "        validationData_y = y_train[0:0,:]\n",
    "        for eachFold in range(0,numberOfFolds):\n",
    "            if eachFold!=testFold:\n",
    "                trainingData_x = np.concatenate((trainingData_x,x_train[foldStartIndex[eachFold]:foldEndIndex[eachFold],:]),axis=0)\n",
    "                trainingData_y = np.concatenate((trainingData_y,y_train[foldStartIndex[eachFold]:foldEndIndex[eachFold],:]),axis=0)\n",
    "            else:\n",
    "                validationData_x = np.concatenate((validationData_x,x_train[foldStartIndex[eachFold]:foldEndIndex[eachFold],:]),axis=0)\n",
    "                validationData_y = np.concatenate((validationData_y,y_train[foldStartIndex[eachFold]:foldEndIndex[eachFold],:]),axis=0)\n",
    "        \n",
    "        w_learned = steepestDescentLineSearch(np.array([2,3]),x_train, y_train[:,0], 0.9)\n",
    "            \n",
    "        "
   ]
  },
  {
   "cell_type": "code",
   "execution_count": 51,
   "id": "ecfc5fcb",
   "metadata": {},
   "outputs": [
    {
     "data": {
      "text/plain": [
       "610"
      ]
     },
     "execution_count": 51,
     "metadata": {},
     "output_type": "execute_result"
    }
   ],
   "source": [
    "122*5"
   ]
  },
  {
   "cell_type": "code",
   "execution_count": null,
   "id": "25edc55a",
   "metadata": {},
   "outputs": [],
   "source": []
  }
 ],
 "metadata": {
  "kernelspec": {
   "display_name": "Python 3 (ipykernel)",
   "language": "python",
   "name": "python3"
  },
  "language_info": {
   "codemirror_mode": {
    "name": "ipython",
    "version": 3
   },
   "file_extension": ".py",
   "mimetype": "text/x-python",
   "name": "python",
   "nbconvert_exporter": "python",
   "pygments_lexer": "ipython3",
   "version": "3.9.13"
  }
 },
 "nbformat": 4,
 "nbformat_minor": 5
}
